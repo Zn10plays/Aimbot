{
 "cells": [
  {
   "metadata": {
    "jupyter": {
     "is_executing": true
    }
   },
   "cell_type": "code",
   "source": [
    "import sys\n",
    "sys.coinit_flags = 0 # to fix them error"
   ],
   "id": "9d3ff466c2c8cba3",
   "outputs": [],
   "execution_count": null
  },
  {
   "metadata": {},
   "cell_type": "code",
   "outputs": [],
   "execution_count": null,
   "source": [
    "import asyncio\n",
    "from bleak import BleakClient, BleakScanner\n",
    "from bleak.backends.characteristic import BleakGATTCharacteristic\n",
    "import cv2\n",
    "import yaml\n",
    "from ultralytics import YOLO\n",
    "from time import time\n",
    "from bleak.backends.winrt.util import uninitialize_sta\n",
    "import camera.targeting.transformation as transformation\n",
    "import numpy as np\n"
   ],
   "id": "56ec2bd93943e9d7"
  },
  {
   "metadata": {
    "ExecuteTime": {
     "end_time": "2025-03-29T22:17:24.539621Z",
     "start_time": "2025-03-29T22:17:24.331885Z"
    }
   },
   "cell_type": "code",
   "source": [
    "cfg = yaml.safe_load(open(\"cfg.yaml\"))\n",
    "\n",
    "def notification_handler(characteristic: BleakGATTCharacteristic, data: bytearray):\n",
    "    \"\"\"Simple notification handler which prints the data received.\"\"\"\n",
    "    print(f\"Notification from {characteristic.description}: {data.decode()}\")\n",
    "\n",
    "def sent_message(client, x, y, xerror, yerror):\n",
    "    message = f\"TARGET,{x},{y},{xerror},{yerror},{time()}\"\n",
    "    # print(f\"Sending: {message}\")\n",
    "    return client.write_gatt_char(cfg['CHARACTERISTIC_UUID_RX'], message.encode())\n"
   ],
   "id": "168b1848bf21b9dc",
   "outputs": [
    {
     "ename": "NameError",
     "evalue": "name 'yaml' is not defined",
     "output_type": "error",
     "traceback": [
      "\u001B[31m---------------------------------------------------------------------------\u001B[39m",
      "\u001B[31mNameError\u001B[39m                                 Traceback (most recent call last)",
      "\u001B[36mCell\u001B[39m\u001B[36m \u001B[39m\u001B[32mIn[1]\u001B[39m\u001B[32m, line 1\u001B[39m\n\u001B[32m----> \u001B[39m\u001B[32m1\u001B[39m cfg = \u001B[43myaml\u001B[49m.safe_load(\u001B[38;5;28mopen\u001B[39m(\u001B[33m\"\u001B[39m\u001B[33mcfg.yaml\u001B[39m\u001B[33m\"\u001B[39m))\n\u001B[32m      3\u001B[39m \u001B[38;5;28;01mdef\u001B[39;00m\u001B[38;5;250m \u001B[39m\u001B[34mnotification_handler\u001B[39m(characteristic: BleakGATTCharacteristic, data: \u001B[38;5;28mbytearray\u001B[39m):\n\u001B[32m      4\u001B[39m \u001B[38;5;250m    \u001B[39m\u001B[33;03m\"\"\"Simple notification handler which prints the data received.\"\"\"\u001B[39;00m\n",
      "\u001B[31mNameError\u001B[39m: name 'yaml' is not defined"
     ]
    }
   ],
   "execution_count": 1
  },
  {
   "metadata": {},
   "cell_type": "code",
   "outputs": [],
   "execution_count": null,
   "source": "",
   "id": "906dfff372b8e61"
  }
 ],
 "metadata": {
  "kernelspec": {
   "name": "python3",
   "language": "python",
   "display_name": "Python 3 (ipykernel)"
  }
 },
 "nbformat": 5,
 "nbformat_minor": 9
}
